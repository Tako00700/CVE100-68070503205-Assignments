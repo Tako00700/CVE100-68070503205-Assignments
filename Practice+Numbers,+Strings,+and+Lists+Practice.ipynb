{
 "cells": [
  {
   "cell_type": "markdown",
   "metadata": {},
   "source": [
    "#  Numbers"
   ]
  },
  {
   "cell_type": "markdown",
   "metadata": {},
   "source": [
    "Compute the number of bytes in one Gigabyte (1kb = 1024 bytes, 1mb = 1024 kb, 1gb = 1024 mb)"
   ]
  },
  {
   "cell_type": "code",
   "execution_count": 10,
   "metadata": {
    "collapsed": false
   },
   "outputs": [
    {
     "name": "stdout",
     "output_type": "stream",
     "text": [
      "one gb =  1073741824 bytes\n"
     ]
    }
   ],
   "source": [
    "#Write your code here\n",
    "bytes_in_kb = 1024\n",
    "kb_in_mb = 1024\n",
    "mb_in_gb = 1024\n",
    "bytes_in_gb = bytes_in_kb*kb_in_mb*mb_in_gb\n",
    "print(\"one gb = \", bytes_in_gb,\"bytes\")\n"
   ]
  },
  {
   "cell_type": "markdown",
   "metadata": {},
   "source": [
    "You bought 500 shares of stock A at $\\$$600 on day 0 and you sold it at  $\\$$1000 on day 700.\n",
    "The daily discount rate is 0.0001%. How much profit did you make in terms of net present value.\n"
   ]
  },
  {
   "cell_type": "code",
   "execution_count": 11,
   "metadata": {},
   "outputs": [
    {
     "name": "stdout",
     "output_type": "stream",
     "text": [
      "Profit =  199650.12\n"
     ]
    }
   ],
   "source": [
    "#Write your code here\n",
    "share = 500\n",
    "buy_price = 600\n",
    "days = 700\n",
    "rate = 0.000001\n",
    "sell_price = 1000\n",
    "\n",
    "cost = share*buy_price\n",
    "value = share*sell_price\n",
    "sale = value/((1 + rate)**days)\n",
    "profit = sale-cost\n",
    "print(\"Profit = \", round(profit,2))\n"
   ]
  },
  {
   "cell_type": "markdown",
   "metadata": {},
   "source": [
    "For any value of x, create a variable called even_check that is True if x is even and False if x is odd. "
   ]
  },
  {
   "cell_type": "code",
   "execution_count": 12,
   "metadata": {
    "collapsed": false,
    "run_control": {
     "marked": true
    }
   },
   "outputs": [
    {
     "name": "stdout",
     "output_type": "stream",
     "text": [
      "True\n"
     ]
    }
   ],
   "source": [
    "#Write your code here\n",
    "x = 6\n",
    "is_even = True if x % 2 == 0 else False\n",
    "print(is_even)"
   ]
  },
  {
   "cell_type": "markdown",
   "metadata": {},
   "source": [
    "You have num_shirts t-shirts, num_shorts pairs of shorts and num_shoes pairs of shoes.  Create a variable called num_outfits that stores the total number of different outfits you can make."
   ]
  },
  {
   "cell_type": "code",
   "execution_count": 14,
   "metadata": {
    "collapsed": false
   },
   "outputs": [
    {
     "name": "stdout",
     "output_type": "stream",
     "text": [
      "Total number of different outfits =  315\n"
     ]
    }
   ],
   "source": [
    "#Write your code here\n",
    "num_shirts = 5\n",
    "num_shorts = 7\n",
    "num_shoes = 9\n",
    "num_outfit = num_shirts*num_shorts*num_shoes\n",
    "print(\"Total number of different outfits = \", num_outfit)\n",
    "\n"
   ]
  },
  {
   "cell_type": "markdown",
   "metadata": {},
   "source": [
    "# String Practice\n",
    "\n",
    "Create variable called \"name\" that stores your full name. Find whether your name has an even or odd number of letters."
   ]
  },
  {
   "cell_type": "code",
   "execution_count": 15,
   "metadata": {
    "collapsed": false
   },
   "outputs": [
    {
     "name": "stdout",
     "output_type": "stream",
     "text": [
      "Number of letter in your name is even.\n"
     ]
    }
   ],
   "source": [
    "#Write your code here\n",
    "name = \"Tun Myat\"\n",
    "letter = len(name)\n",
    "\n",
    "if letter %2==0:\n",
    "    print(\"Number of letter in your name is even.\")\n",
    "else:\n",
    "    print(\"Number of lettee in your name is odd.\")\n",
    "    "
   ]
  },
  {
   "cell_type": "markdown",
   "metadata": {},
   "source": [
    "Correct the following variable so it is equal to \"spammy\""
   ]
  },
  {
   "cell_type": "code",
   "execution_count": 6,
   "metadata": {
    "collapsed": false
   },
   "outputs": [
    {
     "name": "stdout",
     "output_type": "stream",
     "text": [
      "spammy\n"
     ]
    }
   ],
   "source": [
    "#Write your code here\n",
    "s = \"spaxxy\"\n",
    "s = s[0:3] + \"mm\" + s[-1]\n",
    "print(s)\n"
   ]
  },
  {
   "cell_type": "markdown",
   "metadata": {},
   "source": [
    "Figure out a way to slice and combine the strings s1, s2, and s3 so that the variable consec_ints = \"123456789\"."
   ]
  },
  {
   "cell_type": "code",
   "execution_count": 17,
   "metadata": {
    "collapsed": false
   },
   "outputs": [
    {
     "name": "stdout",
     "output_type": "stream",
     "text": [
      "123456789\n"
     ]
    }
   ],
   "source": [
    "s1 = \"12345\"\n",
    "s2 = \"34567\"\n",
    "s3 = \"789\"\n",
    "\n",
    "#Write your code here\n",
    "combine = s1+s2[3:4]+s3\n",
    "print(combine)\n"
   ]
  },
  {
   "cell_type": "markdown",
   "metadata": {},
   "source": [
    "#  List Practice\n",
    "\n"
   ]
  },
  {
   "cell_type": "markdown",
   "metadata": {},
   "source": [
    "Add the first and last elements of the list L. Store the result in a variable called sum_first_last. Your code should work if I change L."
   ]
  },
  {
   "cell_type": "code",
   "execution_count": 18,
   "metadata": {
    "collapsed": false
   },
   "outputs": [
    {
     "name": "stdout",
     "output_type": "stream",
     "text": [
      "Sum of first and last is  72\n"
     ]
    }
   ],
   "source": [
    "L = [5,1,43,2,4,56,7,90, 67]\n",
    "\n",
    "#Write your code here\n",
    "sum_first_last = L[0]+L[-1]\n",
    "print(\"Sum of first and last is \", sum_first_last)\n"
   ]
  },
  {
   "cell_type": "markdown",
   "metadata": {},
   "source": [
    "Slice and combine the elements of the list L in a way to print out \"spam\"."
   ]
  },
  {
   "cell_type": "code",
   "execution_count": 19,
   "metadata": {
    "collapsed": false
   },
   "outputs": [
    {
     "name": "stdout",
     "output_type": "stream",
     "text": [
      "spam\n"
     ]
    }
   ],
   "source": [
    "L = [1,\"s\", 2, 3, \"p\", \"a\", 34,1,\"m\"]\n",
    "\n",
    "\n",
    "#Write your code here\n",
    "slice_and_combine = L[1]+L[4]+L[5]+L[8]\n",
    "print(slice_and_combine)"
   ]
  },
  {
   "cell_type": "markdown",
   "metadata": {},
   "source": [
    "Create a variable called num_L which store the number represented by the list of strings in L.  For the example num_L should be 145. You may assume 3 digit numbers."
   ]
  },
  {
   "cell_type": "code",
   "execution_count": 20,
   "metadata": {
    "collapsed": false
   },
   "outputs": [
    {
     "name": "stdout",
     "output_type": "stream",
     "text": [
      "Represent L is  1\n",
      "Represent L is  14\n",
      "Represent L is  145\n"
     ]
    }
   ],
   "source": [
    "L = [\"1\",\"4\",\"5\" ]\n",
    "\n",
    "#Write you code here\n",
    "num_L = 0\n",
    "for i in range(len(L)):\n",
    "    num_L=num_L*10+int(L[i])\n",
    "    print(\"Represent L is \", num_L)\n"
   ]
  },
  {
   "cell_type": "markdown",
   "metadata": {},
   "source": [
    "Create a list L of numbers of odd length.  Complete the following tasks:\n",
    "\n",
    " - Find the median element\n",
    " - Slice out all element indexed lower than the median element"
   ]
  },
  {
   "cell_type": "code",
   "execution_count": 21,
   "metadata": {
    "collapsed": false
   },
   "outputs": [
    {
     "name": "stdout",
     "output_type": "stream",
     "text": [
      "Sorted list is  [2, 3, 4, 5, 6, 6, 9]\n",
      "Median element is  5\n",
      "Slice list is  [2, 3, 4]\n"
     ]
    }
   ],
   "source": [
    "L= [4,5,3,2,6,6,9]\n",
    "\n",
    "#Write your code here\n",
    "L.sort()\n",
    "x=len(L)//2\n",
    "y=L[x]\n",
    "slice=L[:x]\n",
    "print(\"Sorted list is \", L)\n",
    "print(\"Median element is \", y)\n",
    "print(\"Slice list is \", slice)"
   ]
  }
 ],
 "metadata": {
  "kernelspec": {
   "display_name": "Python 3",
   "language": "python",
   "name": "python3"
  },
  "language_info": {
   "codemirror_mode": {
    "name": "ipython",
    "version": 3
   },
   "file_extension": ".py",
   "mimetype": "text/x-python",
   "name": "python",
   "nbconvert_exporter": "python",
   "pygments_lexer": "ipython3",
   "version": "3.11.9"
  },
  "toc": {
   "colors": {
    "hover_highlight": "#DAA520",
    "navigate_num": "#000000",
    "navigate_text": "#333333",
    "running_highlight": "#FF0000",
    "selected_highlight": "#FFD700",
    "sidebar_border": "#EEEEEE",
    "wrapper_background": "#FFFFFF"
   },
   "moveMenuLeft": true,
   "nav_menu": {
    "height": "12px",
    "width": "252px"
   },
   "navigate_menu": true,
   "number_sections": true,
   "sideBar": true,
   "skip_h1_title": false,
   "threshold": 4,
   "toc_cell": false,
   "toc_position": {},
   "toc_section_display": "block",
   "toc_window_display": false,
   "widenNotebook": false
  }
 },
 "nbformat": 4,
 "nbformat_minor": 2
}
